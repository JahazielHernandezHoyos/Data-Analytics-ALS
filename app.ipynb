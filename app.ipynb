{
 "cells": [
  {
   "cell_type": "code",
   "execution_count": 1,
   "metadata": {},
   "outputs": [],
   "source": [
    "%matplotlib qt5 \n",
    "import matplotlib.pyplot as plt\n",
    "import pandas as pd\n",
    "import numpy as np\n",
    "from scipy.interpolate import interp1d\n",
    "from fastdtw import fastdtw"
   ]
  },
  {
   "cell_type": "code",
   "execution_count": 2,
   "metadata": {},
   "outputs": [],
   "source": [
    "\"\"\"Config\"\"\"\n",
    "word = \"time\" \n",
    "discart_points_face = True\n",
    "participant_id = 29302\n",
    "landmarks = 75 # 75 sin puntos de la cara y con puntos de la cara son 543\n",
    "data = pd.read_csv(\"train.csv\")\n",
    "filtered_data = data[data[\"sign\"] == word]\n",
    "csv_path = \"filter_for_word.csv\"\n",
    "filtered_data.to_csv(csv_path, index=False)\n",
    "participant_ids = filtered_data[\"participant_id\"].unique()"
   ]
  },
  {
   "cell_type": "code",
   "execution_count": 3,
   "metadata": {},
   "outputs": [],
   "source": [
    "#leer un .parquet aleatorio\n",
    "path_one_file = filtered_data.iloc[6][\"path\"]\n",
    "df = pd.read_parquet(path_one_file)\n"
   ]
  },
  {
   "cell_type": "code",
   "execution_count": 4,
   "metadata": {},
   "outputs": [],
   "source": [
    "def process_path_data(path_number, filtered_data):\n",
    "    \"\"\"\n",
    "    Procesa los datos de una ruta específica (los .parquet), extrae y reformatea la información relevante de los puntos (x, y).\n",
    "\n",
    "    Args:\n",
    "        path_number (int): El índice de la ruta en el DataFrame filtered_data.\n",
    "        filtered_data (pandas.DataFrame): Un DataFrame que contiene información sobre las rutas de los archivos de datos.\n",
    "\n",
    "    Returns:\n",
    "        numpy.ndarray: Un array de la secuencia reformateada con la forma (num_samples, 543, 2), donde num_samples es el\n",
    "                       número de fotogramas únicos en los datos.\n",
    "    \"\"\"\n",
    "    path_file = filtered_data.iloc[path_number][\"path\"]\n",
    "    data = pd.read_parquet(path_file)\n",
    "    if discart_points_face == True:\n",
    "        data = data[data[\"type\"] != \"face\"]\n",
    "    cleaned_data = data[[\"frame\", \"x\", \"y\"]]\n",
    "    num_samples = cleaned_data[\"frame\"].nunique()\n",
    "    cleaned_data = cleaned_data[[\"x\", \"y\"]].to_numpy()\n",
    "    seq = cleaned_data.reshape(num_samples, landmarks, 2)\n",
    "    return seq"
   ]
  },
  {
   "cell_type": "code",
   "execution_count": 5,
   "metadata": {},
   "outputs": [],
   "source": [
    "def add_descriptors(sequence):\n",
    "    \"\"\"\n",
    "    Añade los descriptores de derivada a una secuencia.\n",
    "\n",
    "    Args:\n",
    "        sequence (numpy.ndarray): La secuencia de entrada con la forma (num_frames, landmarks, 2).\n",
    "\n",
    "    Returns:\n",
    "        numpy.ndarray: La secuencia con los descriptores de derivada añadidos con la forma (num_frames, landmarks, 4).\n",
    "    \"\"\"\n",
    "    # Calcula la derivada x e y para cada fotograma de la secuencia\n",
    "    dx = np.gradient(sequence[:, :, 0], axis=0)\n",
    "    dy = np.gradient(sequence[:, :, 1], axis=0)\n",
    "    \n",
    "    # Concatena la secuencia original con las derivadas dx e dy\n",
    "    sequence_with_descriptors = np.concatenate([sequence, dx[:, :, np.newaxis], dy[:, :, np.newaxis]], axis=2)\n",
    "\n",
    "    return sequence_with_descriptors\n"
   ]
  },
  {
   "cell_type": "code",
   "execution_count": 6,
   "metadata": {},
   "outputs": [
    {
     "ename": "SyntaxError",
     "evalue": "invalid syntax (296652730.py, line 13)",
     "output_type": "error",
     "traceback": [
      "\u001b[1;36m  Cell \u001b[1;32mIn[6], line 13\u001b[1;36m\u001b[0m\n\u001b[1;33m    seq = np.nan_to_num(seq nan=0)\u001b[0m\n\u001b[1;37m                            ^\u001b[0m\n\u001b[1;31mSyntaxError\u001b[0m\u001b[1;31m:\u001b[0m invalid syntax\n"
     ]
    }
   ],
   "source": [
    "def interpolate_sequence(seq, num_frames):\n",
    "    \"\"\"\n",
    "    Interpola una secuencia única a una longitud específica en la dimensión del tiempo.\n",
    "    \n",
    "    Args:\n",
    "        seq (numpy.ndarray): La secuencia de entrada con la forma (T, landmarks, 2), donde T es el número de fotogramas.\n",
    "        num_frames (int): El número de fotogramas para la secuencia interpolada.\n",
    "\n",
    "    Returns:\n",
    "        numpy.ndarray: La secuencia interpolada con la forma (num_frames, landmarks, 2).\n",
    "    \"\"\"\n",
    "    seq_interp = np.zeros((num_frames, landmarks, 2))\n",
    "    seq = np.nan_to_num(seq nan=0)\n",
    "    \n",
    "    for i in range(landmarks):\n",
    "        for j in range(2):\n",
    "            f = interp1d(np.arange(seq.shape[0]), seq[:, i, j], kind='linear')\n",
    "            seq_interp[:, i, j] = f(np.linspace(0, seq.shape[0] - 1, num_frames))\n",
    "\n",
    "    return seq_interp\n",
    "\n",
    "def interpolate_sequences_list(sequences, num_frames):\n",
    "    \"\"\"\n",
    "    Interpola una lista de secuencias a una longitud específica en la dimensión del tiempo.\n",
    "    \n",
    "    Args:\n",
    "        sequences (list): Una lista de secuencias, cada una con la forma (T, 543, 2), donde T es el número de fotogramas.\n",
    "        num_frames (int): El número de fotogramas para las secuencias interpoladas.\n",
    "\n",
    "    Returns:\n",
    "        numpy.ndarray: Un array que contiene las secuencias interpoladas con la forma (num_frames, 543, 2, num_sequences),\n",
    "                       donde num_sequences es el número de secuencias en la lista de entrada.\n",
    "    \"\"\"\n",
    "    num_sequences = len(sequences)\n",
    "    interpolated_sequences = np.zeros((num_frames, landmarks, 2, num_sequences))\n",
    "    \n",
    "    for idx, seq in enumerate(sequences):\n",
    "        seq_interp = interpolate_sequence(seq, num_frames)\n",
    "        interpolated_sequences[:, :, :, idx] = seq_interp\n",
    "    \n",
    "    return interpolated_sequences\n",
    "\n",
    "num_frames = 30 # Número de fotogramas para las secuencias interpoladas\n",
    "sequences = [] # Lista de secuencias\n",
    "participant_ids = filtered_data[\"participant_id\"].unique()\n",
    "for participant_id in participant_ids:\n",
    "    participant_data = filtered_data[filtered_data[\"participant_id\"] == participant_id]\n",
    "    for i in range(len(participant_data)):\n",
    "        seq = process_path_data(i, participant_data)\n",
    "        sequences.append(seq)\n",
    "\n",
    "interpolated_sequences = interpolate_sequences_list(sequences, num_frames)\n",
    "interpolated_sequences = interpolated_sequences.transpose((3,0,1,2)) #reorganizacion\n",
    "\n",
    "# Añade los descriptores de derivada para cada secuencia interpolada\n",
    "interpolated_sequences_with_descriptors = []\n",
    "for seq in interpolated_sequences:\n",
    "    seq_with_descriptors = add_descriptors(seq)\n",
    "    interpolated_sequences_with_descriptors.append(seq_with_descriptors)\n",
    "\n",
    "# Convierte la lista de secuencias interpoladas con descriptores en un array de NumPy\n",
    "interpolated_sequences_with_descriptors = np.array(interpolated_sequences_with_descriptors)\n",
    "\n",
    "print(interpolated_sequences_with_descriptors.shape) # (num_sequences, num_frames, landmarks, n-descriptors)"
   ]
  },
  {
   "cell_type": "code",
   "execution_count": null,
   "metadata": {},
   "outputs": [],
   "source": [
    "\"\"\" export interpolated_sequences to npy\"\"\"\n",
    "if discart_points_face is True:\n",
    "    np.save(f\"interpolated_sequences_{word}_75points_with_descriptors.npy\", interpolated_sequences_with_descriptors)\n",
    "    plt.plot(interpolated_sequences_with_descriptors[1, :, 0], interpolated_sequences_with_descriptors[1, :, 1], 'o')\n",
    "else:\n",
    "    np.save(f\"interpolated_sequences_{word}_543points_with_descriptors.npy\", interpolated_sequences_with_descriptors)\n",
    "    plt.plot(interpolated_sequences_with_descriptors[1, :, 0], interpolated_sequences_with_descriptors[1, :, 1], 'o')\n"
   ]
  },
  {
   "cell_type": "code",
   "execution_count": null,
   "metadata": {},
   "outputs": [
    {
     "data": {
      "text/plain": [
       "' visualizar datos'"
      ]
     },
     "execution_count": 16,
     "metadata": {},
     "output_type": "execute_result"
    }
   ],
   "source": [
    "\"\"\" visualizar datos\"\"\"\n",
    "\n",
    "# data_descriptors_rendering = np.load(f\"interpolated_sequences_{word}_543points.npy\")\n",
    "\n",
    "\n"
   ]
  }
 ],
 "metadata": {
  "kernelspec": {
   "display_name": "Python 3",
   "language": "python",
   "name": "python3"
  },
  "language_info": {
   "codemirror_mode": {
    "name": "ipython",
    "version": 3
   },
   "file_extension": ".py",
   "mimetype": "text/x-python",
   "name": "python",
   "nbconvert_exporter": "python",
   "pygments_lexer": "ipython3",
   "version": "3.9.16"
  },
  "orig_nbformat": 4,
  "vscode": {
   "interpreter": {
    "hash": "99478e5ee0f521ef0b070dd453c82598403954a17ba545340915d72841086dea"
   }
  }
 },
 "nbformat": 4,
 "nbformat_minor": 2
}
