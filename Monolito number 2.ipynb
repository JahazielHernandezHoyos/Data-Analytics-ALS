{
 "cells": [
  {
   "cell_type": "code",
   "execution_count": 1,
   "metadata": {},
   "outputs": [],
   "source": [
    "%matplotlib qt5 \n",
    "import matplotlib.pyplot as plt\n",
    "import pandas as pd\n",
    "import numpy as np\n",
    "from scipy.interpolate import interp1d\n",
    "from fastdtw import fastdtw"
   ]
  },
  {
   "cell_type": "code",
   "execution_count": 2,
   "metadata": {},
   "outputs": [],
   "source": [
    "data = pd.read_csv(\"train.csv\")\n",
    "filtered_data = data[data[\"sign\"] == \"puzzle\"]\n",
    "csv_path = \"filter_for_word.csv\"\n",
    "filtered_data.to_csv(csv_path, index=False)"
   ]
  },
  {
   "cell_type": "code",
   "execution_count": 3,
   "metadata": {},
   "outputs": [],
   "source": [
    "\"\"\"One file path\"\"\" \n",
    "data_total = np.zeros((1, 543, 8))\n",
    "\n",
    "def extract_descriptors(data_train):\n",
    "    data_train_descriptor = np.zeros((1, 543, 8))\n",
    "    for i in range(0,543):\n",
    "        d1 = np.mean(data_train[i, :, 0])\n",
    "        d2 = np.mean(data_train[i, :, 1])\n",
    "        d3 = np.max(data_train[i, :, 0])\n",
    "        d4 = np.max(data_train[i, :, 1])\n",
    "        d5 = np.min(data_train[i, :, 0])\n",
    "        d6 = np.min(data_train[i, :, 1])\n",
    "        d7 = np.sum(np.square(data_train[i, :, 0]))\n",
    "        d8 = np.sum(np.square(data_train[i, :, 1]))\n",
    "        data_train_descriptor[:, i, :] = [d1, d2, d3, d4, d5, d6, d7, d8]\n",
    "    return data_train_descriptor\n",
    "    \n",
    "for i in range(filtered_data.shape[0]):\n",
    "    path_one_file = filtered_data.iloc[i][\"path\"]\n",
    "    test = pd.read_parquet(path_one_file)\n",
    "    cleaned_data = test[[\"frame\", \"landmark_index\", \"x\", \"y\"]]\n",
    "    num_samples = cleaned_data[\"frame\"].nunique()\n",
    "    cleaned_data = cleaned_data[[\"frame\", \"landmark_index\", \"x\", \"y\"]].to_numpy()\n",
    "    cleaned_data = cleaned_data.reshape(543, num_samples, 4)\n",
    "\n",
    "    data_with_descriptors = extract_descriptors(cleaned_data)\n",
    "    data_total = np.append(data_total, data_with_descriptors, axis=0)"
   ]
  },
  {
   "cell_type": "code",
   "execution_count": 4,
   "metadata": {},
   "outputs": [],
   "source": [
    "# def extract_testing_descriptor(data_train, num_samples):\n",
    "#     data_testing_descriptor = np.zeros((1, 543, 2))\n",
    "#     for i in num_samples:\n",
    "#         for i in range(0,543):  \n",
    "#     return data_train_descriptor\n",
    "\n",
    "def process_path_data(path_number, filtered_data):\n",
    "    path_file = filtered_data.iloc[path_number][\"path\"]\n",
    "    data = pd.read_parquet(path_file)\n",
    "    cleaned_data = data[[\"frame\", \"x\", \"y\"]]\n",
    "    num_samples = cleaned_data[\"frame\"].nunique()\n",
    "    cleaned_data = cleaned_data[[\"x\", \"y\"]].to_numpy()\n",
    "    seq = cleaned_data.reshape(num_samples, 543, 2)\n",
    "    return seq\n",
    "\n",
    "seq1 = process_path_data(1, filtered_data)\n",
    "seq2 = process_path_data(4, filtered_data)"
   ]
  },
  {
   "cell_type": "code",
   "execution_count": 5,
   "metadata": {},
   "outputs": [
    {
     "name": "stdout",
     "output_type": "stream",
     "text": [
      "(30, 543, 2)\n",
      "(30, 543, 2)\n"
     ]
    }
   ],
   "source": [
    "# Interpolar ambas secuencias a una longitud común (por ejemplo, 50 fotogramas)\n",
    "num_frames = 30\n",
    "seq1_interp = np.zeros((num_frames, 543, 2))\n",
    "seq2_interp = np.zeros((num_frames, 543, 2))\n",
    "\n",
    "for i in range(543):\n",
    "    for j in range(2):\n",
    "        f1 = interp1d(np.arange(seq1.shape[0]), seq1[:, i, j], kind='linear')\n",
    "        f2 = interp1d(np.arange(seq2.shape[0]), seq2[:, i, j], kind='linear')\n",
    "\n",
    "        seq1_interp[:, i, j] = f1(np.linspace(0, seq1.shape[0]-1, num_frames))\n",
    "        seq2_interp[:, i, j] = f2(np.linspace(0, seq2.shape[0]-1, num_frames))\n",
    "\n",
    "print(seq1_interp.shape)\n",
    "print(seq2_interp.shape)\n",
    "\n",
    "plt.figure()\n",
    "plt.plot(seq1_interp[:, 0, 0], seq1_interp[:, 0, 1], 'r')\n",
    "plt.plot(seq2_interp[:, 0, 0], seq2_interp[:, 0, 1], 'b')\n",
    "\n",
    "# total_distance = 0\n",
    "\n",
    "# for i in range(543):\n",
    "#     distance, _ = fastdtw(seq1_interp[:, i, :], seq2_interp[:, i, :])\n",
    "#     total_distance += distance\n"
   ]
  },
  {
   "cell_type": "code",
   "execution_count": 6,
   "metadata": {},
   "outputs": [
    {
     "data": {
      "text/plain": [
       "[<matplotlib.lines.Line2D at 0x1cb8051d7f0>]"
      ]
     },
     "execution_count": 6,
     "metadata": {},
     "output_type": "execute_result"
    }
   ],
   "source": [
    "\"\"\" visualizar datos\"\"\"\n",
    "\n",
    "data_descriptors_rendering = np.load(\"data_with_descriptors_puzzle.npy\")\n",
    "\n",
    "plt.plot(data_descriptors_rendering[1, :, 0], data_descriptors_rendering[1, :, 1], 'o')\n"
   ]
  }
 ],
 "metadata": {
  "kernelspec": {
   "display_name": "Python 3",
   "language": "python",
   "name": "python3"
  },
  "language_info": {
   "codemirror_mode": {
    "name": "ipython",
    "version": 3
   },
   "file_extension": ".py",
   "mimetype": "text/x-python",
   "name": "python",
   "nbconvert_exporter": "python",
   "pygments_lexer": "ipython3",
   "version": "3.9.16"
  },
  "orig_nbformat": 4,
  "vscode": {
   "interpreter": {
    "hash": "99478e5ee0f521ef0b070dd453c82598403954a17ba545340915d72841086dea"
   }
  }
 },
 "nbformat": 4,
 "nbformat_minor": 2
}
