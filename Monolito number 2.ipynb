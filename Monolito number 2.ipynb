{
 "cells": [
  {
   "cell_type": "code",
   "execution_count": 12,
   "metadata": {},
   "outputs": [],
   "source": [
    "%matplotlib qt5 \n",
    "import matplotlib.pyplot as plt\n",
    "import pandas as pd\n",
    "import numpy as np\n",
    "from scipy.interpolate import interp1d\n",
    "from fastdtw import fastdtw"
   ]
  },
  {
   "cell_type": "code",
   "execution_count": 13,
   "metadata": {},
   "outputs": [],
   "source": [
    "word = \"time\" \n",
    "data = pd.read_csv(\"train.csv\")\n",
    "filtered_data = data[data[\"sign\"] == word]\n",
    "csv_path = \"filter_for_word.csv\"\n",
    "filtered_data.to_csv(csv_path, index=False)"
   ]
  },
  {
   "cell_type": "code",
   "execution_count": 14,
   "metadata": {},
   "outputs": [],
   "source": [
    "def process_path_data(path_number, filtered_data):\n",
    "    path_file = filtered_data.iloc[path_number][\"path\"]\n",
    "    data = pd.read_parquet(path_file)\n",
    "    data = data[data[\"type\"] != \"face\"]\n",
    "    cleaned_data = data[[\"frame\", \"x\", \"y\"]]\n",
    "    num_samples = cleaned_data[\"frame\"].nunique()\n",
    "    cleaned_data = cleaned_data[[\"x\", \"y\"]].to_numpy()\n",
    "    seq = cleaned_data.reshape(num_samples, 75, 2)\n",
    "    return seq\n",
    "\n",
    "seq1 = process_path_data(4, filtered_data)\n",
    "seq2 = process_path_data(10, filtered_data)"
   ]
  },
  {
   "cell_type": "code",
   "execution_count": 17,
   "metadata": {},
   "outputs": [],
   "source": [
    "def interpolate_sequence(seq, num_frames):\n",
    "    \"\"\"\n",
    "    Interpola una secuencia única a una longitud específica en la dimensión del tiempo.\n",
    "    \n",
    "    Args:\n",
    "        seq (numpy.ndarray): La secuencia de entrada con la forma (T, 543, 2), donde T es el número de fotogramas.\n",
    "        num_frames (int): El número de fotogramas para la secuencia interpolada.\n",
    "\n",
    "    Returns:\n",
    "        numpy.ndarray: La secuencia interpolada con la forma (num_frames, 543, 2).\n",
    "    \"\"\"\n",
    "    seq_interp = np.zeros((num_frames, 75, 2))\n",
    "    seq = np.nan_to_num(seq)\n",
    "    \n",
    "    for i in range(75):\n",
    "        for j in range(2):\n",
    "            f = interp1d(np.arange(seq.shape[0]), seq[:, i, j], kind='linear')\n",
    "            seq_interp[:, i, j] = f(np.linspace(0, seq.shape[0] - 1, num_frames))\n",
    "\n",
    "    return seq_interp\n",
    "\n",
    "def interpolate_sequences_list(sequences, num_frames):\n",
    "    \"\"\"\n",
    "    Interpola una lista de secuencias a una longitud específica en la dimensión del tiempo.\n",
    "    \n",
    "    Args:\n",
    "        sequences (list): Una lista de secuencias, cada una con la forma (T, 543, 2), donde T es el número de fotogramas.\n",
    "        num_frames (int): El número de fotogramas para las secuencias interpoladas.\n",
    "\n",
    "    Returns:\n",
    "        numpy.ndarray: Un array que contiene las secuencias interpoladas con la forma (num_frames, 543, 2, num_sequences),\n",
    "                       donde num_sequences es el número de secuencias en la lista de entrada.\n",
    "    \"\"\"\n",
    "    num_sequences = len(sequences)\n",
    "    interpolated_sequences = np.zeros((num_frames, 75, 2, num_sequences))\n",
    "    \n",
    "    for idx, seq in enumerate(sequences):\n",
    "        seq_interp = interpolate_sequence(seq, num_frames)\n",
    "        interpolated_sequences[:, :, :, idx] = seq_interp\n",
    "    \n",
    "    return interpolated_sequences\n",
    "\n",
    "num_frames = 30 # Número de fotogramas para las secuencias interpoladas\n",
    "sequences = [] # Lista de secuencias\n",
    "for i in range(filtered_data.shape[0]):\n",
    "    seq = process_path_data(i, filtered_data)\n",
    "    sequences.append(seq)\n",
    "\n",
    "interpolated_sequences = interpolate_sequences_list(sequences, num_frames)"
   ]
  },
  {
   "cell_type": "code",
   "execution_count": 18,
   "metadata": {},
   "outputs": [],
   "source": [
    "\"\"\" export interpolated_sequences to npy\"\"\"\n",
    "np.save(f\"interpolated_sequences_{word}.npy\", interpolated_sequences)"
   ]
  },
  {
   "cell_type": "code",
   "execution_count": null,
   "metadata": {},
   "outputs": [],
   "source": [
    "\"\"\" Intento de DTW\"\"\"\n",
    "total_distance = 0\n",
    "\n",
    "for i in range(543):\n",
    "    distance, _ = fastdtw(seq1_interp[:, i, :], seq2_interp[:, i, :])\n",
    "    total_distance += distance"
   ]
  },
  {
   "cell_type": "code",
   "execution_count": null,
   "metadata": {},
   "outputs": [],
   "source": [
    "\"\"\" visualizar datos\"\"\"\n",
    "\n",
    "data_descriptors_rendering = np.load(\"data_with_descriptors_puzzle.npy\")\n",
    "\n",
    "plt.plot(data_descriptors_rendering[1, :, 0], data_descriptors_rendering[1, :, 1], 'o')\n"
   ]
  }
 ],
 "metadata": {
  "kernelspec": {
   "display_name": "Python 3",
   "language": "python",
   "name": "python3"
  },
  "language_info": {
   "codemirror_mode": {
    "name": "ipython",
    "version": 3
   },
   "file_extension": ".py",
   "mimetype": "text/x-python",
   "name": "python",
   "nbconvert_exporter": "python",
   "pygments_lexer": "ipython3",
   "version": "3.9.16"
  },
  "orig_nbformat": 4,
  "vscode": {
   "interpreter": {
    "hash": "99478e5ee0f521ef0b070dd453c82598403954a17ba545340915d72841086dea"
   }
  }
 },
 "nbformat": 4,
 "nbformat_minor": 2
}
