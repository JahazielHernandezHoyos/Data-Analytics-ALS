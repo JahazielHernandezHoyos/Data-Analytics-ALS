{
 "cells": [
  {
   "cell_type": "code",
   "execution_count": 1,
   "metadata": {},
   "outputs": [],
   "source": [
    "\n",
    "import numpy as np\n",
    "import pandas as pd\n",
    "import matplotlib.pyplot as plt\n",
    "import numpy as np"
   ]
  },
  {
   "cell_type": "code",
   "execution_count": 2,
   "metadata": {},
   "outputs": [],
   "source": [
    "data = pd.read_csv(\"train.csv\")\n",
    "filtered_data = data[data[\"sign\"] == \"puzzle\"]\n",
    "csv_path = \"filter_for_word.csv\"\n",
    "filtered_data.to_csv(csv_path, index=False)\n"
   ]
  },
  {
   "cell_type": "code",
   "execution_count": 3,
   "metadata": {},
   "outputs": [],
   "source": [
    "\"\"\"One file path\"\"\" \n",
    "data_total = np.zeros((1, 543, 8))\n",
    "\n",
    "def extract_descriptors(data_train):\n",
    "    data_train_descriptor = np.zeros((1, 543, 8))\n",
    "    for i in range(0,543):\n",
    "        d1 = np.mean(data_train[i, :, 0])\n",
    "        d2 = np.mean(data_train[i, :, 1])\n",
    "        d3 = np.max(data_train[i, :, 0])\n",
    "        d4 = np.max(data_train[i, :, 1])\n",
    "        d5 = np.min(data_train[i, :, 0])\n",
    "        d6 = np.min(data_train[i, :, 1])\n",
    "        d7 = np.sum(np.square(data_train[i, :, 0]))\n",
    "        d8 = np.sum(np.square(data_train[i, :, 1]))\n",
    "        data_train_descriptor[:, i, :] = [d1, d2, d3, d4, d5, d6, d7, d8]\n",
    "    return data_train_descriptor\n",
    "\n",
    "\n",
    "for i in range(filtered_data.shape[0]):\n",
    "    path_one_file = filtered_data.iloc[i][\"path\"]\n",
    "    test = pd.read_parquet(path_one_file)\n",
    "    cleaned_data = test[[\"frame\", \"landmark_index\", \"x\", \"y\"]]\n",
    "    num_samples = cleaned_data[\"frame\"].nunique()\n",
    "    cleaned_data = cleaned_data[[\"frame\", \"landmark_index\", \"x\", \"y\"]].to_numpy()\n",
    "    cleaned_data = cleaned_data.reshape(543, num_samples, 4)\n",
    "\n",
    "    data_with_descriptors = extract_descriptors(cleaned_data)\n",
    "    data_total = np.append(data_total, data_with_descriptors, axis=0)"
   ]
  },
  {
   "cell_type": "code",
   "execution_count": 5,
   "metadata": {},
   "outputs": [
    {
     "ename": "NameError",
     "evalue": "name 'all_data' is not defined",
     "output_type": "error",
     "traceback": [
      "\u001b[1;31m---------------------------------------------------------------------------\u001b[0m",
      "\u001b[1;31mNameError\u001b[0m                                 Traceback (most recent call last)",
      "Cell \u001b[1;32mIn[5], line 4\u001b[0m\n\u001b[0;32m      1\u001b[0m \u001b[39m\"\"\"Export numpy\"\"\"\u001b[39;00m \n\u001b[0;32m      3\u001b[0m npy_path \u001b[39m=\u001b[39m \u001b[39m\"\u001b[39m\u001b[39mdata_with_descriptors_puzzle.npy\u001b[39m\u001b[39m\"\u001b[39m\n\u001b[1;32m----> 4\u001b[0m np\u001b[39m.\u001b[39msave(npy_path, all_data)\n",
      "\u001b[1;31mNameError\u001b[0m: name 'all_data' is not defined"
     ]
    }
   ],
   "source": [
    "\"\"\"Export numpy\"\"\" \n",
    "\n",
    "npy_path = \"data_with_descriptors_puzzle.npy\"\n",
    "np.save(npy_path, data_total)\n"
   ]
  },
  {
   "cell_type": "code",
   "execution_count": null,
   "metadata": {},
   "outputs": [],
   "source": [
    "\"\"\" visualizar datos\"\"\"\n",
    "\n",
    "data = np.load(\"data_with_descriptors_puzzle.npy\")\n",
    "data = data[1:, :, :]\n",
    "data = data.reshape(1, 543, 8)\n",
    "\n",
    "for i in range(0, 543):\n",
    "    plt.plot(data[0, i, 0], data[0, i, 1], \"o\")\n",
    "    plt.plot(data[0, i, 2], data[0, i, 3], \"o\")\n",
    "    plt.plot(data[0, i, 4], data[0, i, 5], \"o\")\n",
    "    plt.plot(data[0, i, 6], data[0, i, 7], \"o\")\n",
    "    plt.show()\n",
    "\n",
    "\"\"\"Export csv\"\"\"\n",
    "\n",
    "csv_path = \"data_with_descriptors_puzzle.csv\"\n",
    "np.savetxt(csv_path, data_total, delimiter=\",\")"
   ]
  },
  {
   "cell_type": "code",
   "execution_count": null,
   "metadata": {},
   "outputs": [],
   "source": []
  }
 ],
 "metadata": {
  "kernelspec": {
   "display_name": "Python 3",
   "language": "python",
   "name": "python3"
  },
  "language_info": {
   "codemirror_mode": {
    "name": "ipython",
    "version": 3
   },
   "file_extension": ".py",
   "mimetype": "text/x-python",
   "name": "python",
   "nbconvert_exporter": "python",
   "pygments_lexer": "ipython3",
   "version": "3.10.10"
  },
  "orig_nbformat": 4,
  "vscode": {
   "interpreter": {
    "hash": "99478e5ee0f521ef0b070dd453c82598403954a17ba545340915d72841086dea"
   }
  }
 },
 "nbformat": 4,
 "nbformat_minor": 2
}
